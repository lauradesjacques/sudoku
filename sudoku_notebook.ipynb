{
 "cells": [
  {
   "cell_type": "markdown",
   "id": "be491e43",
   "metadata": {},
   "source": [
    "<div style=\"display: flex; background-color: RGB(236, 83, 78);\" >\n",
    "<h1 style=\"margin: auto; padding: 30px; \">SUDOKU NOTEBOOK</h1>\n",
    "</div>"
   ]
  },
  {
   "cell_type": "markdown",
   "id": "fd495665",
   "metadata": {},
   "source": [
    "<strong>Règles du jeu -->  https://sudoku.com/fr/comment-jouer/regles-de-sudoku-pour-les-debutants-complets/ </strong>"
   ]
  },
  {
   "cell_type": "markdown",
   "id": "71565456",
   "metadata": {},
   "source": [
    "<div style=\"border: 1px solid RGB(236, 83, 78);\" >\n",
    "<h3 style=\"margin: auto; padding: 10px; color: RGB(236, 83, 78); \"> Sudoku Checker avec Numpy</h3>\n",
    "<p style=\"margin: auto; padding: 10px;\"> Créer un programme qui vérifie si la grille 9x9 de sudoku est valide </p> \n",
    "</div>\n"
   ]
  },
  {
   "cell_type": "code",
   "execution_count": 1,
   "id": "2b194ed2",
   "metadata": {},
   "outputs": [],
   "source": [
    "import numpy as np"
   ]
  },
  {
   "cell_type": "code",
   "execution_count": 2,
   "id": "d412fd25",
   "metadata": {},
   "outputs": [],
   "source": [
    "# Je crée une grille de sudoku aléatoire \n",
    "\n",
    "grid = np.random.randint(1, 9, (9, 9))"
   ]
  },
  {
   "cell_type": "code",
   "execution_count": 3,
   "id": "e46c394f",
   "metadata": {},
   "outputs": [],
   "source": [
    "# Grille de sudoku valide\n",
    "grid_ok = np.array([[8, 3, 5, 4, 1, 6, 9, 2, 7], [2, 9, 6, 8, 5, 7, 4, 3, 1],\n",
    "           [4, 1, 7, 2, 9, 3, 6, 5, 8], [5, 6, 9, 1, 3, 4, 7, 8, 2],\n",
    "           [1, 2, 3, 6, 7, 8, 5, 4, 9], [7, 4, 8, 5, 2, 9, 1, 6, 3],\n",
    "           [6, 5, 2, 7, 8, 1, 3, 9, 4], [9, 8, 1, 3, 4, 5, 2, 7, 6],\n",
    "           [3, 7, 4, 9, 6, 2, 8, 1, 5]])"
   ]
  },
  {
   "cell_type": "code",
   "execution_count": 4,
   "id": "cb52dfd7",
   "metadata": {},
   "outputs": [],
   "source": [
    "# function qui verifie une ligne donnée\n",
    "def is_line_valid(grid,check_row):\n",
    "    return len(set(grid[check_row])) == 9"
   ]
  },
  {
   "cell_type": "code",
   "execution_count": 5,
   "id": "56f6b32d",
   "metadata": {},
   "outputs": [],
   "source": [
    "# Function qui verifie si une colonne est valide\n",
    "def is_col_valid(col_num):\n",
    "    col = [item[col_num] for item in grid]\n",
    "    return len(set(col)) == 9"
   ]
  },
  {
   "cell_type": "code",
   "execution_count": 6,
   "id": "4148ea5f",
   "metadata": {},
   "outputs": [],
   "source": [
    "# function qui verifie si toutes les lignes sont valides\n",
    "def is_row_valid(grid):\n",
    "    for i in range(9):\n",
    "        if len(set(grid[i])) != 9:\n",
    "            return False\n",
    "        return True"
   ]
  },
  {
   "cell_type": "code",
   "execution_count": 7,
   "id": "88c4d0da",
   "metadata": {},
   "outputs": [],
   "source": [
    "# Function qui verifie si toutes les colonnes sont valides\n",
    "def is_column_valid(grid):\n",
    "    col= grid.transpose()\n",
    "    for x in range(9):\n",
    "        if len(set(col[x])) != 9:\n",
    "            return False\n",
    "        return True"
   ]
  },
  {
   "cell_type": "code",
   "execution_count": 8,
   "id": "d93bab51",
   "metadata": {},
   "outputs": [],
   "source": [
    "# Function qui verifie si un carré est correct \n",
    "def is_square_valid(grid):\n",
    "    for i in range(9):\n",
    "        square = grid[i//3*3:i//3*3+3 , i%3*3:i%3*3+3].flatten()\n",
    "        if len(set(square)) != 9:\n",
    "            return False\n",
    "        else:\n",
    "            return True"
   ]
  },
  {
   "cell_type": "code",
   "execution_count": 9,
   "id": "ce2351a9",
   "metadata": {},
   "outputs": [],
   "source": [
    "# Function qui check le sudoku \n",
    "def is_sudoku_valid(grid):\n",
    "    if is_row_valid(grid) == True and is_column_valid(grid) == True and is_square_valid(grid) == True:\n",
    "        return \"Sudoku is valid\"\n",
    "    return \"Sudoku not valid\"\n"
   ]
  },
  {
   "cell_type": "markdown",
   "id": "9c2a279a",
   "metadata": {},
   "source": [
    "<div style=\"border: 1px solid RGB(236, 83, 78);\" >\n",
    "<h3 style=\"margin: auto; padding: 10px; color: RGB(236, 83, 78); \"> Sudoku Solver avec Numpy</h3>\n",
    "<p style=\"margin: auto; padding: 10px;\"> Créer un programme qui est capable de résoudre une grille 9x9 de sudoku donnée </p> \n",
    "</div>\n"
   ]
  },
  {
   "cell_type": "code",
   "execution_count": 15,
   "id": "3ab529ff",
   "metadata": {},
   "outputs": [],
   "source": [
    "boad= np.array([[9,0,0,1,0,0,0,0,5],\n",
    "        [0,0,5,0,9,0,2,0,1],\n",
    "        [8,0,0,0,4,0,0,0,0],\n",
    "        [0,0,0,0,8,0,0,0,0],\n",
    "        [0,0,0,7,0,0,0,0,0],\n",
    "        [0,0,0,0,2,6,0,0,9],\n",
    "        [2,0,0,3,0,0,0,0,6],\n",
    "        [0,0,0,2,0,0,9,0,0],\n",
    "        [0,0,1,9,0,4,5,7,0]])"
   ]
  }
 ],
 "metadata": {
  "kernelspec": {
   "display_name": "Python 3 (ipykernel)",
   "language": "python",
   "name": "python3"
  },
  "language_info": {
   "codemirror_mode": {
    "name": "ipython",
    "version": 3
   },
   "file_extension": ".py",
   "mimetype": "text/x-python",
   "name": "python",
   "nbconvert_exporter": "python",
   "pygments_lexer": "ipython3",
   "version": "3.8.12"
  },
  "toc": {
   "base_numbering": 1,
   "nav_menu": {},
   "number_sections": true,
   "sideBar": true,
   "skip_h1_title": false,
   "title_cell": "Table of Contents",
   "title_sidebar": "Contents",
   "toc_cell": false,
   "toc_position": {},
   "toc_section_display": true,
   "toc_window_display": false
  }
 },
 "nbformat": 4,
 "nbformat_minor": 5
}
